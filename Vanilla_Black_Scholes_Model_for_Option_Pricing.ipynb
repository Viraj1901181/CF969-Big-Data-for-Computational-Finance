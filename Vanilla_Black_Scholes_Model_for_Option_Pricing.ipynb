{
  "nbformat": 4,
  "nbformat_minor": 0,
  "metadata": {
    "colab": {
      "name": "Vanilla Black Scholes Model for Option Pricing.ipynb",
      "provenance": [],
      "collapsed_sections": [],
      "authorship_tag": "ABX9TyN97qptH5RJTPtzxJPgSqkg",
      "include_colab_link": true
    },
    "kernelspec": {
      "name": "python3",
      "display_name": "Python 3"
    }
  },
  "cells": [
    {
      "cell_type": "markdown",
      "metadata": {
        "id": "view-in-github",
        "colab_type": "text"
      },
      "source": [
        "<a href=\"https://colab.research.google.com/github/Viraj1901181/CF969-Big-Data-for-Computational-Finance/blob/master/Vanilla_Black_Scholes_Model_for_Option_Pricing.ipynb\" target=\"_parent\"><img src=\"https://colab.research.google.com/assets/colab-badge.svg\" alt=\"Open In Colab\"/></a>"
      ]
    },
    {
      "cell_type": "code",
      "metadata": {
        "id": "MmVC4Ur_Ja01",
        "colab_type": "code",
        "colab": {}
      },
      "source": [
        "# Black-Scholes\n",
        "import math"
      ],
      "execution_count": 0,
      "outputs": []
    },
    {
      "cell_type": "code",
      "metadata": {
        "id": "Y_RW0B9tJkK6",
        "colab_type": "code",
        "colab": {}
      },
      "source": [
        "# Return the value of the Gaussian probability function with mean 0.0\n",
        "# and standard deviation 1.0 at the given x value.\n",
        "\n",
        "def phi(x):\n",
        "    return math.exp(-x * x / 2.0) / math.sqrt(2.0 * math.pi)\n"
      ],
      "execution_count": 0,
      "outputs": []
    },
    {
      "cell_type": "code",
      "metadata": {
        "id": "izhG0UKNJn1-",
        "colab_type": "code",
        "colab": {}
      },
      "source": [
        "# Return the value of the Gaussian probability function with mean mu\n",
        "# and standard deviation sigma at the given x value.\n",
        "\n",
        "def pdf(x, mu=0.0, sigma=1.0):\n",
        "    return phi((x - mu) / sigma) / sigma"
      ],
      "execution_count": 0,
      "outputs": []
    },
    {
      "cell_type": "code",
      "metadata": {
        "id": "43l-6ew6JuaA",
        "colab_type": "code",
        "colab": {}
      },
      "source": [
        "# Return the value of the cumulative Gaussian distribution function\n",
        "# with mean 0.0 and standard deviation 1.0 at the given z value.\n",
        "\n",
        "def Phi(z):\n",
        "    if z < -8.0: return 0.0\n",
        "    if z >  8.0: return 1.0\n",
        "    total = 0.0\n",
        "    term = z\n",
        "    i = 3\n",
        "    while total != total + term:\n",
        "        total += term\n",
        "        term *= z * z / float(i)\n",
        "        i += 2\n",
        "    return 0.5 + total * phi(z)"
      ],
      "execution_count": 0,
      "outputs": []
    },
    {
      "cell_type": "code",
      "metadata": {
        "id": "Z0aEZXIjJ0XO",
        "colab_type": "code",
        "colab": {}
      },
      "source": [
        "# Return standard Gaussian cdf with mean mu and stddev sigma.\n",
        "# Use Taylor approximation.\n",
        "\n",
        "def cdf(z, mu=0.0, sigma=1.0):\n",
        "    return Phi((z - mu) / sigma)\n"
      ],
      "execution_count": 0,
      "outputs": []
    },
    {
      "cell_type": "code",
      "metadata": {
        "id": "_zlRIy-VJ73C",
        "colab_type": "code",
        "colab": {}
      },
      "source": [
        "# Black-Scholes formula.\n",
        "\n",
        "def callPrice(s, x, r, sigma, t):\n",
        "    a = (math.log(s/x) + (r + sigma * sigma/2.0) * t) / \\\n",
        "        (sigma * math.sqrt(t))\n",
        "    b = a - sigma * math.sqrt(t)\n",
        "    return s * cdf(a) - x * math.exp(-r * t) * cdf(b)"
      ],
      "execution_count": 0,
      "outputs": []
    },
    {
      "cell_type": "code",
      "metadata": {
        "id": "C3Q2LFtTKCZ6",
        "colab_type": "code",
        "colab": {}
      },
      "source": [
        "# Accept s, x, r, sigma, and t from the command line and write\n",
        "# the Black-Scholes value.\n",
        "\n",
        "S0 = 100.          # initial index level\n",
        "K = 105.           # strike price\n",
        "T = 1.0            # time-to-maturity\n",
        "r = 0.05           # riskless short rate\n",
        "sigma = 0.2        # volatility\n",
        "\n",
        "C0_BlackScholes = callPrice(S0, K, r, sigma, T)"
      ],
      "execution_count": 0,
      "outputs": []
    },
    {
      "cell_type": "code",
      "metadata": {
        "id": "OBcX2RPaKHdM",
        "colab_type": "code",
        "colab": {
          "base_uri": "https://localhost:8080/",
          "height": 34
        },
        "outputId": "267f6b33-11c5-4877-efa1-49507a7f17b6"
      },
      "source": [
        "print (\"Value of the European Call Option {:,.4}\".format(C0_BlackScholes))"
      ],
      "execution_count": 8,
      "outputs": [
        {
          "output_type": "stream",
          "text": [
            "Value of the European Call Option 8.021\n"
          ],
          "name": "stdout"
        }
      ]
    },
    {
      "cell_type": "markdown",
      "metadata": {
        "id": "k4Un2BV5KOwr",
        "colab_type": "text"
      },
      "source": [
        "# Python Implementation of MonteCarlo for non-dividend paying options"
      ]
    },
    {
      "cell_type": "markdown",
      "metadata": {
        "id": "Y3u80jmMKRAG",
        "colab_type": "text"
      },
      "source": [
        "Monte Carlo simulation is used for option pricing and risk management problems. However, the Monte Carlo method is computationally demanding.\n",
        "\n",
        "A European style option can only be exercised on the expiration date. In contrast, an American style option can be exercised at any time before the expiration date.\n",
        "\n",
        "A call option is the right to buy a specific financial instrument (specific amounts of currency, stocks, commodities, et cetera) at a specific price. The practical use of options is that they provide a type of insurance. If BMW needs a certain amount of Euros on a certain date and is expecting to have US Dollars on hand from car sales, they buy an option to make certain that even if the currency markets go against them, they know what to budget for the transaction. The premium is the amount they pay for an option. The more volatile the underlying security is, the higher the premium. The premium will indicate a certain volatility. This is called implied volatility.\n",
        "\n",
        "The analogy of car insurance may help make this clear. For example, the higher the likelihood a person will get into an accident, the higher the premium for car insurance.\n",
        "\n",
        "The model for calculating option prices is the Black-Scholes-Merton model, which is usually referred to as Black-Scholes."
      ]
    },
    {
      "cell_type": "code",
      "metadata": {
        "id": "_aYdFNh4KVNW",
        "colab_type": "code",
        "colab": {}
      },
      "source": [
        "# import modules\n",
        "\n",
        "import numpy as np\n"
      ],
      "execution_count": 0,
      "outputs": []
    },
    {
      "cell_type": "code",
      "metadata": {
        "id": "lv2xw8qBKfH0",
        "colab_type": "code",
        "colab": {}
      },
      "source": [
        "# Inputs\n",
        "\n",
        "S0 = 100.          # initial index level\n",
        "K = 105.           # strike price\n",
        "T = 1.0            # time-to-maturity\n",
        "r = 0.05           # riskless short rate\n",
        "sigma = 0.2        # volatility\n",
        "simulations = 10000         # number of iterations/simulations\n"
      ],
      "execution_count": 0,
      "outputs": []
    },
    {
      "cell_type": "code",
      "metadata": {
        "id": "AtgJmCYIKike",
        "colab_type": "code",
        "colab": {}
      },
      "source": [
        "# Black-Scholes-Merton (1973) index level at maturity\n",
        "\n",
        "z = np.random.standard_normal(simulations)\n",
        "\n",
        "ST = S0 * np.exp((r - 0.5 * sigma ** 2) * T + sigma * np.sqrt(T) * z)"
      ],
      "execution_count": 0,
      "outputs": []
    },
    {
      "cell_type": "code",
      "metadata": {
        "id": "SexwVFxRKxHH",
        "colab_type": "code",
        "colab": {}
      },
      "source": [
        "# Monte Carlo estimator for European option\n",
        "\n",
        "hT = np.maximum(ST - K, 0)            # inner values at maturity\n",
        "C0_monteCarlo = np.exp(-r * T) * sum(hT) / simulations     # Monte Carlo estimator"
      ],
      "execution_count": 0,
      "outputs": []
    },
    {
      "cell_type": "code",
      "metadata": {
        "id": "Zu-9t2clK1Yl",
        "colab_type": "code",
        "colab": {
          "base_uri": "https://localhost:8080/",
          "height": 34
        },
        "outputId": "42468822-4853-47a1-8ded-93718857426e"
      },
      "source": [
        "# Result\n",
        "print (\"Value of the European Call Option {:,.4}\".format(C0_monteCarlo))"
      ],
      "execution_count": 14,
      "outputs": [
        {
          "output_type": "stream",
          "text": [
            "Value of the European Call Option 7.878\n"
          ],
          "name": "stdout"
        }
      ]
    },
    {
      "cell_type": "code",
      "metadata": {
        "id": "aXYC-4EkK-Nl",
        "colab_type": "code",
        "colab": {
          "base_uri": "https://localhost:8080/",
          "height": 34
        },
        "outputId": "f5f7bdb2-e683-491c-c1bf-7614f0976c93"
      },
      "source": [
        "# Result\n",
        "print (\"Value of the European Call Option {:,.4}\".format(C0_monteCarlo))"
      ],
      "execution_count": 15,
      "outputs": [
        {
          "output_type": "stream",
          "text": [
            "Value of the European Call Option 7.878\n"
          ],
          "name": "stdout"
        }
      ]
    },
    {
      "cell_type": "code",
      "metadata": {
        "id": "zhfFtLy_LLIg",
        "colab_type": "code",
        "colab": {
          "base_uri": "https://localhost:8080/",
          "height": 85
        },
        "outputId": "0ffcbd36-0adb-4e89-9386-43e08eb520c7"
      },
      "source": [
        "# Result\n",
        "print(\"Results:\")\n",
        "print(\"-\"*100)\n",
        "print (\"Value of the European Call Option by Black-Scholes: {:,.4}\".format(C0_BlackScholes))\n",
        "print (\"Value of the European Call Option by MonteCarlo with {:,} simulations: {:,.4}\".format(simulations, C0_monteCarlo))"
      ],
      "execution_count": 16,
      "outputs": [
        {
          "output_type": "stream",
          "text": [
            "Results:\n",
            "----------------------------------------------------------------------------------------------------\n",
            "Value of the European Call Option by Black-Scholes: 8.021\n",
            "Value of the European Call Option by MonteCarlo with 10,000 simulations: 7.878\n"
          ],
          "name": "stdout"
        }
      ]
    },
    {
      "cell_type": "code",
      "metadata": {
        "id": "a6U-KO2BQpLt",
        "colab_type": "code",
        "colab": {
          "base_uri": "https://localhost:8080/",
          "height": 262
        },
        "outputId": "29cfe76e-212d-4e63-ef4d-a03233850e65"
      },
      "source": [
        "%matplotlib inline\n",
        "import matplotlib.pyplot as plt\n",
        "\n",
        "plt.style.use('seaborn-whitegrid')\n",
        "\n",
        "plt.scatter(range(50), ST[:50], s=300)\n",
        "plt.show()"
      ],
      "execution_count": 17,
      "outputs": [
        {
          "output_type": "display_data",
          "data": {
            "image/png": "[encoded data removed]",
            "text/plain": [
              "<Figure size 432x288 with 1 Axes>"
            ]
          },
          "metadata": {
            "tags": []
          }
        }
      ]
    }
  ]
}