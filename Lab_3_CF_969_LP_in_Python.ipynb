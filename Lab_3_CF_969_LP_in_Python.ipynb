{
  "nbformat": 4,
  "nbformat_minor": 0,
  "metadata": {
    "colab": {
      "name": "Copy of Lab 3 CF 969 LP in Python.ipynb",
      "provenance": [],
      "collapsed_sections": []
    },
    "kernelspec": {
      "name": "python3",
      "display_name": "Python 3"
    }
  },
  "cells": [
    {
      "cell_type": "markdown",
      "metadata": {
        "id": "VICHkHG7e3zS",
        "colab_type": "text"
      },
      "source": [
        "# LINEAR PROGRAMMING & OPTIMISATION IN PYTHON"
      ]
    },
    {
      "cell_type": "markdown",
      "metadata": {
        "id": "jG8_E57XhNff",
        "colab_type": "text"
      },
      "source": [
        "Consider this problem: Example: A corporation plans on building a maximum of 11 new stores in a large city. They will build these stores in one of three sizes for each location – a convenience store (open 24 hours), standard store, and an expanded-services store. The convenience store requires $4.125 million to build and 30 employees to operate. The standard store requires $8.25 million to build and 15 employees to operate. The expanded-services store requires $12.375 million to build and 45 employees to operate. The corporation can dedicate $82.5 million in construction capital, and 300 employees to staff the stores. On the average, the convenience store nets $1.2 million annually, the standard store nets $2 million annually, and the expanded-services store nets $2.6 million annually. How many of each should they build to maximize revenue?"
      ]
    },
    {
      "cell_type": "code",
      "metadata": {
        "id": "tuARLQ-MfEOV",
        "colab_type": "code",
        "outputId": "907c128c-0aad-46c6-d219-d186affef962",
        "colab": {
          "base_uri": "https://localhost:8080/",
          "height": 151
        }
      },
      "source": [
        "MINIMISE = [ -1.2 , -2, -2.6]\n",
        "A = [[1,1,1], [4.125, 8.25, 12.375], [30, 15, 45]]\n",
        "b = [11, 82.5, 300]\n",
        "\n",
        "X1_BOUNDS = (0, None)\n",
        "X2_BOUNDS = (0, None)\n",
        "X3_BOUNDS = (0, None)\n",
        "\n",
        "from scipy.optimize import linprog\n",
        "result = linprog(MINIMISE, A_ub=A, b_ub=b, bounds=[X1_BOUNDS, X2_BOUNDS, X3_BOUNDS], method = \"simplex\")\n",
        "print(result)"
      ],
      "execution_count": 0,
      "outputs": [
        {
          "output_type": "stream",
          "text": [
            "     con: array([], dtype=float64)\n",
            "     fun: -20.4\n",
            " message: 'Optimization terminated successfully.'\n",
            "     nit: 4\n",
            "   slack: array([  0.,   0., 105.])\n",
            "  status: 0\n",
            " success: True\n",
            "       x: array([2., 9., 0.])\n"
          ],
          "name": "stdout"
        }
      ]
    }
  ]
}